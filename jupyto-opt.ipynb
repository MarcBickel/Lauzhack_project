{
 "cells": [
  {
   "cell_type": "code",
   "execution_count": 1,
   "metadata": {},
   "outputs": [],
   "source": [
    "import pandas as pd\n",
    "from sklearn.model_selection import train_test_split,GridSearchCV,StratifiedShuffleSplit\n",
    "from sklearn.feature_extraction.text import TfidfVectorizer,CountVectorizer\n",
    "from sklearn.linear_model import LogisticRegression,LogisticRegressionCV\n",
    "from sklearn.ensemble import GradientBoostingClassifier\n",
    "from sklearn.pipeline import Pipeline\n",
    "from sklearn.naive_bayes import MultinomialNB\n",
    "from sklearn.metrics import precision_recall_fscore_support,classification_report, confusion_matrix\n",
    "import matplotlib\n",
    "import matplotlib.pyplot as plt\n",
    "import seaborn as sns\n",
    "import numpy as np\n",
    "import random"
   ]
  },
  {
   "cell_type": "code",
   "execution_count": 2,
   "metadata": {},
   "outputs": [],
   "source": [
    "class_names = ['suspicious','non suspicious']"
   ]
  },
  {
   "cell_type": "code",
   "execution_count": 3,
   "metadata": {},
   "outputs": [],
   "source": [
    "#These are the functions I will use for result visualisation\n",
    "def plot_confusion_matrix(y_test,y_predicted,labels):\n",
    "    cm = confusion_matrix(y_test, y_predicted,labels =labels)\n",
    "\n",
    "    figsize = (10,7)\n",
    "    df_cm = pd.DataFrame(\n",
    "        cm, index=class_names, columns=class_names, \n",
    "    )\n",
    "    fig = plt.figure(figsize=figsize)\n",
    "    try:\n",
    "        heatmap = sns.heatmap(df_cm, annot=True, fmt=\"d\")\n",
    "    except ValueError:\n",
    "        raise ValueError(\"Confusion matrix values must be integers.\")\n",
    "    heatmap.yaxis.set_ticklabels(heatmap.yaxis.get_ticklabels(), rotation=0)\n",
    "    heatmap.xaxis.set_ticklabels(heatmap.xaxis.get_ticklabels(), rotation=45)\n",
    "    plt.ylabel('True label')\n",
    "    plt.xlabel('Predicted label')\n",
    "    plt.show()\n",
    "    return\n",
    "\n",
    "def evaluate_classifier(pipeline, x_test, y_test):\n",
    "\n",
    "    y_predicted = pipeline.predict(x_test)\n",
    "\n",
    "    report  = classification_report(y_test,y_predicted)\n",
    "    print(report)\n",
    "    plot_confusion_matrix(y_test, y_predicted, class_names)\n",
    "    return"
   ]
  },
  {
   "cell_type": "code",
   "execution_count": 4,
   "metadata": {},
   "outputs": [],
   "source": [
    "data = pd.read_csv('./data/train.csv',index_col='customer',encoding='utf8')\n",
    "data_test = pd.read_csv('./data/test.csv',index_col='customer',encoding='utf8')"
   ]
  },
  {
   "cell_type": "code",
   "execution_count": 5,
   "metadata": {},
   "outputs": [],
   "source": [
    "#cols_to_transform = ['is_pep','category']\n",
    "#data = pd.get_dummies(data=data, columns = cols_to_transform)\n",
    "data['suspicious'] = data['suspicious'].map({ 1 : 'suspicious', 0: 'non suspicious'})"
   ]
  },
  {
   "cell_type": "code",
   "execution_count": 6,
   "metadata": {},
   "outputs": [],
   "source": [
    "y = data.suspicious\n",
    "x = data.drop('suspicious',axis=1)\n",
    "x.drop('nationality', axis=1, inplace=True)\n",
    "x.drop('category', axis=1, inplace=True)\n",
    "x.drop('is_pep', axis=1, inplace=True)"
   ]
  },
  {
   "cell_type": "code",
   "execution_count": 78,
   "metadata": {},
   "outputs": [],
   "source": [
    "train_x, test_x, train_y, test_y = train_test_split(x,y,test_size=0.2, random_state= 1)"
   ]
  },
  {
   "cell_type": "code",
   "execution_count": 79,
   "metadata": {},
   "outputs": [],
   "source": [
    "from sklearn.ensemble import BaggingClassifier\n",
    "from sklearn.ensemble import RandomForestClassifier\n",
    "from sklearn.ensemble import GradientBoostingClassifier"
   ]
  },
  {
   "cell_type": "code",
   "execution_count": null,
   "metadata": {},
   "outputs": [],
   "source": [
    "gbc = GradientBoostingClassifier(n_estimators=200, subsample=0.8)\n",
    "rfc = RandomForestClassifier(n_estimators=50)\n",
    "clf_bag = BaggingClassifier(base_estimator = gbc, n_estimators=50)\n",
    "clf_bag.fit(train_x, train_y)"
   ]
  },
  {
   "cell_type": "markdown",
   "metadata": {},
   "source": [
    "** TO PRODUCE THE PREDICTION **"
   ]
  },
  {
   "cell_type": "code",
   "execution_count": 57,
   "metadata": {},
   "outputs": [],
   "source": [
    "data_test.drop('nationality', axis=1, inplace=True)\n",
    "data_test.drop('category', axis=1, inplace=True)\n",
    "data_test.drop('is_pep', axis=1, inplace=True)"
   ]
  },
  {
   "cell_type": "code",
   "execution_count": 59,
   "metadata": {},
   "outputs": [],
   "source": [
    "predicted_labels = clf_bag.predict_proba(data_test)\n",
    "data_set_with_label = data_test.copy(deep=True)\n",
    "data_set_with_label['label'] = predicted_labels[:,1]\n",
    "data_set_with_label = data_set_with_label.sort_values(by='label',ascending=False)\n",
    "aaa = data_set_with_label.head(1000)\n",
    "aaa.index.to_frame().to_csv(\"val.csv\",index=False)"
   ]
  },
  {
   "cell_type": "code",
   "execution_count": null,
   "metadata": {},
   "outputs": [],
   "source": []
  },
  {
   "cell_type": "markdown",
   "metadata": {},
   "source": [
    "** PART 3: MINIMIZE THE COST **"
   ]
  },
  {
   "cell_type": "code",
   "execution_count": 75,
   "metadata": {},
   "outputs": [],
   "source": [
    "def get_cost(param, *args):\n",
    "    \n",
    "    label = args[0][0]\n",
    "    test_y = args[0][1]\n",
    "    N = int(param)\n",
    "    fraudulent = label.head(N)\n",
    "    susp = test_y[test_y == 'suspicious']\n",
    "    \n",
    "    M = len(susp) - len(set(fraudulent.index) & set(susp.keys()))\n",
    "    \n",
    "    score = 1000*N+60000*M\n",
    "\n",
    "    return score"
   ]
  },
  {
   "cell_type": "code",
   "execution_count": 76,
   "metadata": {},
   "outputs": [],
   "source": [
    "y_predicted = clf_bag.predict_proba(test_x)\n",
    "data_set_with_label = test_x.copy(deep=True)\n",
    "data_set_with_label['label'] = y_predicted[:,1]\n",
    "data_set_with_label = data_set_with_label.sort_values(by='label',ascending=False)"
   ]
  },
  {
   "cell_type": "code",
   "execution_count": 77,
   "metadata": {},
   "outputs": [
    {
     "data": {
      "text/plain": [
       "     fun: 183353000\n",
       "    nfev: 30\n",
       "     nit: 29\n",
       " success: True\n",
       "       x: 52373.471332469984"
      ]
     },
     "execution_count": 77,
     "metadata": {},
     "output_type": "execute_result"
    }
   ],
   "source": [
    "from scipy.optimize import minimize_scalar\n",
    "\n",
    "minimize_scalar(get_cost, args = [data_set_with_label, test_y])"
   ]
  },
  {
   "cell_type": "code",
   "execution_count": null,
   "metadata": {},
   "outputs": [],
   "source": []
  }
 ],
 "metadata": {
  "kernelspec": {
   "display_name": "Python 3",
   "language": "python",
   "name": "python3"
  },
  "language_info": {
   "codemirror_mode": {
    "name": "ipython",
    "version": 3
   },
   "file_extension": ".py",
   "mimetype": "text/x-python",
   "name": "python",
   "nbconvert_exporter": "python",
   "pygments_lexer": "ipython3",
   "version": "3.6.4"
  }
 },
 "nbformat": 4,
 "nbformat_minor": 2
}
